{
 "cells": [
  {
   "cell_type": "markdown",
   "id": "5a148477",
   "metadata": {},
   "source": [
    "# Predicting the price of diamonds"
   ]
  },
  {
   "cell_type": "markdown",
   "id": "0a18dc04",
   "metadata": {},
   "source": [
    "## Table of contents <a id=\"contents\"></a>\n",
    "- [Section 1.0 (Introduction)](#intro)\n",
    "- [Section 1.1 (Dataset source)](#dSource) Y (Could continue, will need to reference)\n",
    "- [Section 1.2 (Dataset details)](#dDetails) - Discuss the style of dataset - Jacob Hill\n",
    "- [Section 1.3 (Dataset variables)](#dVariables) - Francis Monaghan\n",
    "- [Section 1.4 (Response variable)](#rVariable) - Francis Monaghan\n",
    "- [Section 2.0 (Goals & Objectives)](#Objectives) - Francis Monaghan/Jacob Hill\n",
    "- [Section 3.0 (Data Cleaning & Preprocessing)](#Preprocessing) - Need to look at missing values/outliers/incorrect values (Thomas Yao)\n",
    "- [Section 4.0 (Data Exploration and Visualisation)](#Visualisation) - Thomas Yao\n",
    "- [Section 4.5 (Literature Review)](#Review) - Looking at this on Friday\n",
    "- [Section 5.0 (Summary & Conclusions)](#Conclusions)\n",
    "- [Section 6.0 (References)](#References)"
   ]
  },
  {
   "cell_type": "markdown",
   "id": "2c186837",
   "metadata": {},
   "source": [
    "Other work:\n",
    "Cleaning/Prepocessing, looking at https://github.com/vaksakalli/datasets/blob/master/diamonds_clean_5000.csv, comparing it to our dataset - Jacob Hill"
   ]
  },
  {
   "cell_type": "code",
   "execution_count": 1,
   "id": "6aaa8ca5",
   "metadata": {},
   "outputs": [],
   "source": [
    "import warnings\n",
    "warnings.filterwarnings(\"ignore\")\n",
    "import numpy as np\n",
    "import pandas as pd\n",
    "\n",
    "pd.set_option('display.max_columns', None) \n",
    "\n",
    "df = pd.read_csv(\"diamonds.csv\")\n",
    "\n",
    "###\n",
    "import matplotlib.pyplot as plt\n",
    "import seaborn as sns\n",
    "plt.style.use(\"ggplot\")\n",
    "%matplotlib inline\n",
    "%config InlineBackend.figure_format = \"svg\"\n",
    "###"
   ]
  },
  {
   "cell_type": "code",
   "execution_count": 2,
   "id": "d1e180ae",
   "metadata": {},
   "outputs": [
    {
     "data": {
      "text/plain": [
       "(53940, 10)"
      ]
     },
     "execution_count": 2,
     "metadata": {},
     "output_type": "execute_result"
    }
   ],
   "source": [
    "# This proves there are no not a number values in any observation, \n",
    "# however there may be missing values in a different format than null\n",
    "for col in df.columns.values:\n",
    "    if df[col].isna().sum() > 0:\n",
    "        naValueSum = df[col].isna().sum()\n",
    "        print(f\"{col} has {missingValueSum} NaN values\")"
   ]
  },
  {
   "cell_type": "markdown",
   "id": "2427a30e",
   "metadata": {},
   "source": [
    "## Intro <a id='intro'></a>\n",
    "## Dataset source <a id='dSource'></a>\n",
    "\n",
    "Our Dataset was sourced from our lecturer's example datasets provided on GitHub at https://github.com/vaksakalli/datasets/blob/master/diamonds.csv "
   ]
  },
  {
   "cell_type": "code",
   "execution_count": 3,
   "id": "ace14bd4",
   "metadata": {
    "scrolled": true
   },
   "outputs": [
    {
     "data": {
      "text/plain": [
       "(53940, 10)"
      ]
     },
     "execution_count": 3,
     "metadata": {},
     "output_type": "execute_result"
    }
   ],
   "source": [
    "df.columns.values"
   ]
  },
  {
   "cell_type": "code",
   "execution_count": 5,
   "id": "39ca2457",
   "metadata": {},
   "outputs": [],
   "source": [
    "# This proves there are no not a number values in any observation, \n",
    "# however there may be missing values in a different format than null\n",
    "for col in df.columns.values:\n",
    "    if df[col].isna().sum() > 0:\n",
    "        naValueSum = df[col].isna().sum()\n",
    "        print(f\"{col} has {missingValueSum} NaN values\")"
   ]
  },
  {
   "cell_type": "markdown",
   "id": "86adf68a",
   "metadata": {},
   "source": [
    "JH - could we show one of these instead/as well to be clear?"
   ]
  },
  {
   "cell_type": "code",
   "execution_count": 9,
   "id": "94d09e67",
   "metadata": {
    "scrolled": false
   },
   "outputs": [
    {
     "data": {
      "text/plain": [
       "carat      0\n",
       "cut        0\n",
       "color      0\n",
       "clarity    0\n",
       "depth      0\n",
       "table      0\n",
       "x          0\n",
       "y          0\n",
       "z          0\n",
       "price      0\n",
       "dtype: int64"
      ]
     },
     "execution_count": 9,
     "metadata": {},
     "output_type": "execute_result"
    }
   ],
   "source": [
    "df.isna().sum()"
   ]
  },
  {
   "cell_type": "code",
   "execution_count": 10,
   "id": "1afaec27",
   "metadata": {},
   "outputs": [
    {
     "data": {
      "text/plain": [
       "False"
      ]
     },
     "execution_count": 10,
     "metadata": {},
     "output_type": "execute_result"
    }
   ],
   "source": [
    " df.isnull().values.any()"
   ]
  },
  {
   "cell_type": "code",
   "execution_count": 6,
   "id": "56c29b97",
   "metadata": {},
   "outputs": [
    {
     "name": "stdout",
     "output_type": "stream",
     "text": [
      "carat \n",
      " [0.23 0.21 0.29 0.31 0.24 0.26 0.22 0.3  0.2  0.32 0.33 0.25 0.35 0.42\n",
      " 0.28 0.38 0.7  0.86 0.71 0.78 0.96 0.73 0.8  0.75 0.74 0.81 0.59 0.9\n",
      " 0.91 0.61 0.77 0.63 0.76 0.64 0.72 0.79 0.58 1.17 0.6  0.83 0.54 0.98\n",
      " 0.52 1.01 0.53 0.84 0.51 1.05 0.55 0.87 1.   0.57 0.82 1.04 0.93 1.2\n",
      " 0.99 0.34 0.43 0.36 0.95 0.89 1.02 0.97 0.56 0.85 0.92 1.27 0.66 1.12\n",
      " 0.68 1.03 0.62 1.22 1.08 0.88 0.5  1.19 0.39 0.65 1.24 1.5  0.27 0.41\n",
      " 1.13 1.06 0.69 0.4  1.14 0.94 1.29 1.52 1.16 1.21 1.23 1.09 0.67 1.11\n",
      " 1.1  1.18 1.15 1.25 1.07 1.28 1.51 0.37 1.31 1.26 1.39 1.44 1.35 1.3\n",
      " 1.32 1.41 1.36 1.45 1.34 1.58 1.54 1.38 1.33 1.74 1.64 1.47 1.4  1.55\n",
      " 1.95 2.   1.37 1.83 1.62 1.57 1.69 2.06 1.72 1.66 2.14 1.49 1.46 2.15\n",
      " 1.96 2.22 1.7  1.53 1.85 2.01 2.27 1.68 1.56 1.81 1.65 1.82 2.03 1.73\n",
      " 1.59 1.42 1.43 2.08 1.48 1.6  2.49 1.71 2.02 2.07 3.   2.21 2.1  1.91\n",
      " 2.25 2.17 2.32 2.72 1.61 2.23 2.11 2.05 1.63 2.3  2.31 1.75 2.04 2.12\n",
      " 1.77 2.5  1.8  1.67 1.84 2.2  3.01 1.88 2.33 2.68 2.34 1.9  2.16 2.74\n",
      " 1.78 1.76 2.28 1.79 1.94 2.43 1.86 3.11 1.87 2.09 1.89 2.52 2.19 2.18\n",
      " 2.77 2.63 3.05 2.46 3.02 2.38 2.24 2.26 2.36 1.99 2.29 3.65 2.45 2.4\n",
      " 2.54 3.24 2.13 2.58 3.22 3.5  2.48 1.98 2.44 2.75 1.93 2.41 2.61 2.35\n",
      " 2.51 2.7  2.55 1.97 2.53 2.37 2.47 2.8  4.01 2.56 3.04 1.92 2.39 3.4\n",
      " 4.   3.67 2.42 2.66 2.65 2.59 2.6  2.57 2.71 4.13 2.64 5.01 4.5  2.67\n",
      " 3.51 0.44 0.45 0.47 0.46 0.48 0.49]\n",
      "cut \n",
      " ['Ideal' 'Premium' 'Good' 'Very Good' 'Fair']\n",
      "color \n",
      " ['E' 'I' 'J' 'H' 'F' 'G' 'D']\n",
      "clarity \n",
      " ['SI2' 'SI1' 'VS1' 'VS2' 'VVS2' 'VVS1' 'I1' 'IF']\n",
      "depth \n",
      " [61.5 59.8 56.9 62.4 63.3 62.8 62.3 61.9 65.1 59.4 64.  60.4 62.2 60.2\n",
      " 60.9 62.  63.4 63.8 62.7 61.  58.1 62.5 60.5 60.  60.7 59.5 58.2 64.1\n",
      " 60.8 61.8 61.2 61.1 65.2 58.4 63.1 61.6 59.3 62.6 63.  63.2 62.1 61.4\n",
      " 62.9 63.7 59.2 59.9 57.9 55.1 57.5 66.3 61.7 58.8 64.5 65.3 59.6 64.4\n",
      " 65.7 63.6 61.3 60.1 60.3 58.  64.6 59.7 57.8 67.9 60.6 57.2 64.2 65.8\n",
      " 67.4 59.  63.5 67.3 58.7 66.4 68.1 63.9 55.  58.6 64.3 58.5 65.  56.\n",
      " 58.3 53.1 64.9 59.1 58.9 66.7 57.7 65.4 53.3 53.  67.8 66.1 55.8 67.6\n",
      " 68.2 65.5 67.7 69.5 56.6 56.3 66.9 66.  67.  57.6 67.1 65.6 64.8 69.3\n",
      " 66.2 55.4 66.8 64.7 66.6 55.9 57.3 57.4 68.3 68.5 56.2 65.9 56.5 56.1\n",
      " 66.5 68.4 69.7 57.1 68.7 56.7 68.6 71.6 43.  68.8 67.5 69.  55.2 68.9\n",
      " 69.6 57.  56.4 56.8 44.  67.2 70.1 71.3 70.6 69.8 71.8 53.8 53.2 70.\n",
      " 69.4 68.  70.2 50.8 55.6 70.5 71.  69.1 55.3 54.2 51.  70.8 54.6 54.\n",
      " 54.4 52.3 55.5 78.2 71.2 52.7 54.3 69.2 73.6 52.2 69.9 53.4 72.2 79.\n",
      " 72.9 54.7]\n",
      "table \n",
      " [55.  61.  65.  58.  57.  56.  54.  62.  59.  63.  60.  55.3 69.  53.\n",
      " 64.  56.4 60.5 67.  52.  55.8 66.  70.  68.  54.4 57.1 53.6 54.8 54.2\n",
      " 54.9 56.7 53.9 57.8 54.1 55.1 51.  58.1 56.9 56.5 53.7 60.7 56.2 56.6\n",
      " 56.1 56.3 57.2 57.5 60.9 59.8 62.3 60.1 55.9 50.1 62.2 54.5 55.7 53.4\n",
      " 54.7 58.8 59.4 62.5 54.3 60.6 55.2 58.6 49.  50.  54.6 62.6 57.7 56.8\n",
      " 57.9 60.3 55.6 59.5 57.4 62.4 60.4 53.3 60.2 60.8 58.5 57.6 43.  59.9\n",
      " 63.5 57.3 61.4 58.3 55.4 58.2 53.5 59.7 55.5 58.7 53.8 59.1 53.2 59.3\n",
      " 61.1 51.6 95.  61.2 59.2 58.4 53.1 52.8 44.  61.3 61.9 61.8 59.6 61.5\n",
      " 58.9 64.3 62.8 71.  52.4 63.3 61.7 64.2 73.  65.4 63.4 62.1 79.  76.\n",
      " 61.6]\n",
      "x \n",
      " [ 3.95  3.89  4.05  4.2   4.34  3.94  4.07  3.87  4.    4.25  3.93  3.88\n",
      "  4.35  3.79  4.38  4.31  4.23  4.21  4.26  3.85  4.39  4.44  3.97  4.28\n",
      "  3.96  4.04  4.01  3.92  4.06  3.83  4.29  4.13  4.49  3.99  4.19  4.24\n",
      "  4.36  4.33  4.02  4.45  3.91  4.3   4.43  4.54  4.78  4.15  4.08  4.03\n",
      "  4.65  4.22  5.7   6.45  5.68  5.81  5.85  5.71  6.27  5.77  5.97  5.8\n",
      "  6.    5.94  5.87  5.9   6.14  5.38  5.96  6.16  5.73  5.98  5.72  6.01\n",
      "  5.64  5.57  5.63  5.65  6.09  5.56  6.11  6.03  5.89  5.69  5.62  5.88\n",
      "  5.52  5.74  5.53  5.78  5.83  5.66  5.82  5.79  5.92  5.39  5.33  6.83\n",
      "  5.41  5.25  5.24  5.67  5.61  5.76  6.05  5.6   5.19  5.84  6.39  5.34\n",
      "  5.14  5.11  5.54  6.07  6.29  6.31  6.49  5.28  5.48  5.55  6.41  6.02\n",
      "  5.91  6.17  6.61  5.12  6.19  5.43  5.99  5.95  6.37  5.93  6.46  5.22\n",
      "  5.75  6.21  6.15  6.73  5.49  4.37  4.47  4.41  4.27  4.85  4.32  4.48\n",
      "  4.5   4.56  4.94  4.09  6.72  5.15  6.3   5.86  5.23  6.08  6.62  6.26\n",
      "  6.55  6.04  6.2   6.43  6.36  6.34  5.2   5.37  6.06  5.51  6.9   6.24\n",
      "  5.36  5.16  5.45  5.47  6.12  6.6   6.35  7.12  6.25  6.1   6.75  6.22\n",
      "  6.78  6.38  6.82  6.84  5.44  4.57  4.6   4.52  4.42  4.46  6.93  6.4\n",
      "  5.27  5.21  6.47  6.13  5.59  6.44  6.53  6.5   6.32  5.08  5.09  5.18\n",
      "  5.3   6.68  6.51  6.23  5.42  4.66  4.4   6.18  5.58  5.03  6.85  6.67\n",
      "  6.28  6.57  7.26  4.18  4.77  6.52  6.42  5.5   6.54  6.92  5.46  6.77\n",
      "  6.63  5.35  5.17  4.64  6.81  6.33  5.4   7.53  6.48  6.58  7.01  6.79\n",
      "  6.59  6.66  6.64  6.99  4.67  7.56  6.65  6.69  5.13  6.8   4.58  4.55\n",
      "  4.16  4.12  4.51  6.71  6.95  4.14  4.53  6.89  6.86  6.91  6.76  6.96\n",
      "  4.99  4.61  4.69  4.71  6.56  4.1   4.7   7.4   5.29  5.26  5.31  5.32\n",
      "  7.29  7.18  6.87  6.74  7.43  6.7   7.37  7.    4.11  4.63  6.94  7.22\n",
      "  7.06  7.05  7.09  7.17  7.07  4.73  4.75  4.74  7.02  7.16  7.11  6.88\n",
      "  7.1   4.98  7.15  6.98  7.31  7.38  7.39  7.33  4.17  4.59  7.28  7.08\n",
      "  6.97  4.62  4.83  4.68  7.34  7.21  4.89  7.03  7.55  4.79  7.25  7.45\n",
      "  7.19  7.04  7.62  7.14  3.98  4.8   7.44  0.    7.13  7.32  7.2   7.48\n",
      "  8.1   8.11  7.23  7.27  7.42  7.7   4.76  4.72  7.3   7.24  7.79  7.54\n",
      "  7.63  7.46  7.74  4.84  8.01  7.59  7.36  4.87  8.04  7.78  7.8   7.71\n",
      "  8.48  7.61  8.05  7.6   7.5   7.52  7.91  7.81  8.03  8.23  7.41  7.49\n",
      "  7.68  7.57  7.35  8.26  7.84  7.58  8.    8.19  7.77  7.87  7.47  8.25\n",
      "  7.76  9.23  7.97  8.31  8.3   7.82  4.88  7.93  7.73  7.89  7.66  7.75\n",
      "  8.75  7.88  7.99  8.46  7.51  7.69  7.64  8.24  8.15  8.71  7.83  8.39\n",
      "  7.72  8.13  4.82  7.65  9.1   8.93  8.16  7.94  7.85  8.64  7.67  4.91\n",
      "  4.81  8.14  7.86  9.11  8.45  7.9   8.47  8.07  8.55  8.76  7.96  8.28\n",
      "  8.4   8.37  8.52  8.43  8.09  7.98  8.81  8.54  8.02  8.08  8.18  4.92\n",
      "  8.12  9.15  8.17  9.24  8.33  8.34  7.92  8.57  7.95  8.06  9.26  8.82\n",
      "  8.27  8.66  8.22  9.54  9.38  8.36  8.41  8.53  8.42  8.44  8.21  8.51\n",
      "  8.68  8.49  8.29  8.2   9.08  9.17  8.6   9.53  8.7   8.32  8.65  9.44\n",
      "  8.38  8.61  8.58  9.49  9.65  8.83  8.5   8.79  8.63  8.74  9.04  9.42\n",
      "  8.35  8.56  8.8   8.87  8.84  8.88  8.59  8.69  9.32  9.03  8.72 10.14\n",
      " 10.02  8.62  8.85  9.14  8.67  8.99 10.01  8.78  9.25  9.86  8.77  8.73\n",
      "  9.3   9.13  9.05 10.    8.9   8.97 10.74  9.36  9.06  8.89 10.23  9.51\n",
      "  9.66  9.35  9.41  4.86  4.9   3.9   3.86  4.93  4.96  5.04  5.    4.95\n",
      "  5.01  5.05  3.81  3.84  3.73  3.74  3.76  3.77  4.97  5.06  5.02  5.1\n",
      "  5.07  3.82]\n",
      "y \n",
      " [ 3.98  3.84  4.07  4.23  4.35  3.96  4.11  3.78  4.05  4.28  3.9   4.37\n",
      "  3.75  4.42  4.34  4.29  4.26  4.27  4.3   3.92  4.43  4.47  4.01  3.94\n",
      "  3.97  3.99  4.03  4.06  4.08  3.85  4.31  4.16  4.51  4.5   4.55  4.02\n",
      "  4.24  4.38  3.95  4.48  3.89  3.88  4.33  4.32  4.59  4.84  4.22  4.\n",
      "  4.25  4.13  4.09  4.04  4.12  4.67  5.72  6.33  5.67  5.73  5.85  5.9\n",
      "  5.76  5.95  5.78  5.93  5.75  5.96  5.79  5.87  5.8   5.81  6.11  5.43\n",
      "  6.    5.84  6.12  5.82  5.74  5.94  6.07  5.69  5.83  5.61  5.53  5.58\n",
      "  5.59  5.97  6.09  5.99  5.86  5.68  5.65  5.55  5.77  5.91  5.56  5.89\n",
      "  5.92  6.03  5.44  5.37  5.88  6.9   5.62  5.27  5.26  5.7   5.64  5.63\n",
      "  5.71  5.51  5.22  6.36  5.54  5.66  6.2   5.18  5.15  6.1   6.21  6.22\n",
      "  6.45  6.01  5.3   5.41  5.52  6.27  6.05  6.06  6.13  6.55  5.35  5.16\n",
      "  6.25  6.02  5.46  6.23  6.08  5.45  6.41  6.34  5.25  6.15  6.19  6.66\n",
      "  4.36  4.2   4.79  4.57  4.52  4.53  4.58  5.    6.67  5.11  6.29  6.04\n",
      "  6.53  6.65  6.5   6.16  5.6   6.39  5.21  5.4   5.98  6.83  6.37  6.31\n",
      "  5.38  6.43  5.29  5.19  6.18  5.34  5.48  5.23  6.14  5.49  5.57  6.46\n",
      "  7.05  6.26  6.75  6.74  6.77  4.66  4.46  4.56  4.41  4.4   4.39  5.2\n",
      "  6.88  5.31  6.3   6.48  5.47  5.13  6.49  6.47  6.32  5.12  5.24  6.35\n",
      "  6.61  4.7   6.24  6.28  5.08  6.44  6.79  6.57  6.92  6.6   5.28  5.42\n",
      "  5.5   7.09  4.45  4.62  4.8   6.42  6.85  6.54  6.7   6.51  6.59  6.38\n",
      "  6.69  5.06  4.69  4.44  4.49  6.71  6.4   6.17  5.39  7.42  6.52  6.95\n",
      "  6.56  6.62  6.87  6.81  7.39  6.58  6.73  5.17  4.65  4.19  4.61  6.64\n",
      "  6.91  6.8   4.15  4.71  4.21  4.68  6.84  6.86  4.96  5.04  5.09  4.64\n",
      "  4.74  4.73  4.6   4.75  7.28  5.32  6.82  6.63  7.17  7.13  4.1   4.63\n",
      "  7.35  6.68  7.26  6.78  4.17  4.9   6.89  7.01  7.1   6.72  7.    5.36\n",
      "  4.76  4.78  6.96  7.15  7.19  6.93  4.54  7.34  6.76  7.18  4.14  7.12\n",
      "  7.04  7.22  7.2   6.94  7.16  7.21  4.18  7.32  7.06  6.99  4.72  7.03\n",
      "  7.14  6.97  7.29  7.51  4.81  6.98  7.33  7.23  7.25  7.02  7.59  7.11\n",
      "  4.82  7.07  7.36  7.08  7.4   7.41  8.05  8.06  0.    4.83  7.44  7.79\n",
      "  8.07  7.24  7.7   7.45  7.56  4.88  7.27  7.95  4.87  7.31  4.77  4.89\n",
      "  8.02  7.37  7.49  7.38  7.74  7.75  7.64  8.39  7.55  8.    7.48  7.5\n",
      "  7.54  7.47  7.52  7.53  7.43  7.85  7.6   7.3   7.99  7.57  8.18  7.8\n",
      "  7.92  7.72  8.2   7.65  7.63  7.58  7.73  9.1   8.27  8.19  7.76  8.01\n",
      "  7.66  7.46  7.97  4.94  7.91  7.86  7.61  8.69  7.82  7.9   8.43  7.62\n",
      "  7.71  7.83  8.3   8.12  7.94  7.98  8.56  7.78  8.22  8.28  7.67  4.85\n",
      "  8.44  7.87  8.97  8.84  8.11  4.98  7.81  8.09  7.68  8.25  9.07  8.38\n",
      "  8.67  7.84  4.86  8.26  8.66  7.69  8.32  8.46  8.35  7.89  8.04  8.21\n",
      "  7.96  8.03  8.77  8.49  8.17  8.13  8.33  7.77  9.02  8.08  9.13  7.88\n",
      "  8.31  8.53  8.5   8.14  8.83  8.81  9.25  8.15  8.76  8.23  7.93  8.16\n",
      "  8.63  9.38  9.31  8.34  8.24  8.51  8.47  8.1   8.57  8.45  3.86  8.96\n",
      "  9.48  8.36  8.58  8.41  8.61  8.64  4.97 58.9   8.68  9.4   8.37  8.48\n",
      "  8.29  8.4   9.42  9.59  8.78  8.54  8.7   8.98  9.26  8.65  8.52  8.6\n",
      "  8.42  9.37  8.74  8.59  8.55  9.01  9.19 10.1   9.94  8.71  9.34  9.2\n",
      "  9.81  8.73  8.82  8.87  8.75  8.79  8.93  8.88  9.14  9.03  8.9   8.94\n",
      "  9.85  8.62 10.54  8.89 10.16  9.46  9.63  9.22  9.32  8.85  4.91  4.93\n",
      "  4.92  3.93  4.95  5.01  4.99  5.05  3.77  3.8   3.71  3.73  3.68  3.72\n",
      "  3.91  5.07  5.02  5.03  3.87  5.14  5.1   5.33  3.83  3.81  3.82 31.8 ]\n",
      "z \n",
      " [ 2.43  2.31  2.63  2.75  2.48  2.47  2.53  2.49  2.39  2.73  2.46  2.33\n",
      "  2.71  2.27  2.68  2.7   2.66  2.41  2.62  2.59  2.67  2.4   2.42  2.44\n",
      "  2.37  2.52  2.78  2.76  2.61  2.65  2.79  2.54  2.64  2.45  2.72  2.69\n",
      "  2.96  2.58  2.51  2.56  2.55  2.87  3.57  3.52  3.5   3.56  3.72  3.38\n",
      "  3.4   4.07  3.66  3.65  3.58  3.59  3.63  3.69  3.61  3.6   3.35  3.67\n",
      "  3.62  3.87  3.68  3.49  3.47  3.46  3.7   3.32  3.93  3.95  3.64  3.53\n",
      "  3.37  3.43  3.51  3.54  3.48  3.55  3.33  3.3   4.13  3.79  3.24  3.23\n",
      "  4.08  3.19  3.94  3.08  3.31  3.21  3.75  3.18  3.41  4.03  4.09  3.22\n",
      "  4.18  3.76  3.83  3.17  3.44  3.74  3.8   3.39  3.88  4.    3.98  3.85\n",
      "  3.96  3.16  3.78  3.84  4.33  4.01  3.45  2.74  2.95  2.8   2.77  2.9\n",
      "  2.82  3.77  3.9   3.73  3.34  3.86  3.89  3.81  3.42  3.71  3.91  3.2\n",
      "  3.1   4.06  3.97  4.02  4.2   4.11  3.99  4.23  3.27  3.92  4.15  2.83\n",
      "  2.81  4.04  3.82  4.21  4.1   4.26  4.29  3.26  2.88  2.5   4.16  4.14\n",
      "  4.12  3.25  4.7   4.19  3.13  4.05  4.27  4.34  3.14  2.97  4.17  3.36\n",
      "  4.42  4.28  4.38  3.29  0.    4.25  4.78  2.99  2.57  2.84  4.22  2.6\n",
      "  3.15  4.32  4.3   2.85  3.01  3.28  4.63  4.65  3.12  4.52  4.47  2.89\n",
      "  4.24  4.49  4.57  4.36  4.8   4.76  2.94  4.66  4.54  4.56  4.62  4.37\n",
      "  4.46  4.31  2.91  4.5   4.39  4.4   4.55  2.86  2.35  2.93  4.41  4.51\n",
      "  4.45  4.72  4.48  2.98  4.75  4.64  4.84  2.92  4.87  4.35  4.53  4.44\n",
      "  4.6   4.81  4.68  4.82  3.    4.58  4.97  5.12  4.59  4.61  4.95  4.98\n",
      "  4.79  4.43  5.36  2.36  5.23  5.04  4.74  5.1   4.92  5.17  4.71  5.43\n",
      "  1.07  5.29  4.67  5.07  5.19  4.93  5.15  4.73  5.08  5.06  5.45  4.85\n",
      "  5.27  4.69  5.18  5.16  4.94  4.77  5.25  5.77  5.02  5.14  5.44  5.24\n",
      "  4.99  5.41  5.58  5.76  5.22  5.31  5.09  5.28  5.47  5.01  5.    4.91\n",
      "  4.88  5.32  4.89  5.67  5.97  5.33  5.2   4.83  5.53  5.37  5.65  1.53\n",
      "  4.9   5.21  5.05  5.11  5.35  1.41  4.96  5.98  5.03  5.73  4.86  5.6\n",
      "  5.56  5.66  5.26  5.91  3.04  5.3   5.79  5.13  6.38  5.49  5.34  8.06\n",
      "  5.85  5.57  5.92  6.03  3.02  5.48  5.62  5.46  3.03  5.55  5.39  5.5\n",
      "  6.17  6.24  5.75  6.16  5.51  6.27  6.31  5.69  6.13  5.54  5.86  5.38\n",
      "  5.72  5.4   5.61  6.43  5.52  5.42  6.98  5.9   6.72  5.64  5.59  3.06\n",
      "  3.05  3.07  3.09  3.11  2.26  2.24  2.32  2.28  2.3   2.38  2.34  2.29\n",
      "  2.06  2.25 31.8 ]\n",
      "price \n",
      " [ 326  327  334 ... 2753 2755 2756]\n"
     ]
    }
   ],
   "source": [
    "# This is every unique value in each column, here we can analyse for bad values\n",
    "for col in df.columns.values:\n",
    "    print(f\"{col} \\n {df[col].unique()}\")"
   ]
  },
  {
   "cell_type": "markdown",
   "id": "c70a5c74",
   "metadata": {},
   "source": [
    "Might be good to summaries the overivew of data something like below."
   ]
  },
  {
   "cell_type": "code",
   "execution_count": 11,
   "id": "3d0a5c0f",
   "metadata": {
    "scrolled": true
   },
   "outputs": [
    {
     "data": {
      "text/plain": [
       "carat        273\n",
       "cut            5\n",
       "color          7\n",
       "clarity        8\n",
       "depth        184\n",
       "table        127\n",
       "x            554\n",
       "y            552\n",
       "z            375\n",
       "price      11602\n",
       "dtype: int64"
      ]
     },
     "execution_count": 11,
     "metadata": {},
     "output_type": "execute_result"
    }
   ],
   "source": [
    "df.nunique()"
   ]
  },
  {
   "cell_type": "markdown",
   "id": "5c3aa385",
   "metadata": {},
   "source": [
    "## Introduction <a id='intro'></a>"
   ]
  },
  {
   "cell_type": "markdown",
   "id": "51399a4b",
   "metadata": {},
   "source": [
    "Return to [Table of contents](#contents)"
   ]
  },
  {
   "cell_type": "markdown",
   "id": "c5e5063f",
   "metadata": {},
   "source": [
    "## Dataset source <a id='dSource'></a>\n",
    "\n",
    "Our Dataset was sourced from our lecturer's example datasets provided on GitHub at https://github.com/vaksakalli/datasets/blob/master/diamonds.csv "
   ]
  },
  {
   "cell_type": "markdown",
   "id": "f221d1f1",
   "metadata": {},
   "source": [
    "Return to [Table of contents](#contents)"
   ]
  },
  {
   "cell_type": "markdown",
   "id": "2427a30e",
   "metadata": {},
   "source": [
    "## Dataset details <a id='dDetails'></a>\n",
    "Our dataset contains 53,940 observations, and 10 variables."
   ]
  },
  {
   "cell_type": "markdown",
   "id": "79df0c21",
   "metadata": {},
   "source": [
    "# Dataset Variables <a id='dVariables'></a>\n",
    "The variables describe the physical features of each diamond observed, such as size, clarity."
   ]
  },
  {
   "cell_type": "code",
   "execution_count": 27,
   "id": "41804ae5",
   "metadata": {},
   "outputs": [
    {
     "name": "stdout",
     "output_type": "stream",
     "text": [
      "carat's data type is float64\n",
      "cut's data type is object\n",
      "color's data type is object\n",
      "clarity's data type is object\n",
      "depth's data type is float64\n",
      "table's data type is float64\n",
      "x's data type is float64\n",
      "y's data type is float64\n",
      "z's data type is float64\n",
      "price's data type is int64\n",
      "\n",
      "Pandas has inferred that all columns are the correct data type\n"
     ]
    }
   ],
   "source": [
    "inferenceCounter = 0\n",
    "for col in df.columns.values:\n",
    "    print(f\"{col}\\'s data type is {df[col].dtypes}\")\n",
    "    if df[col].dtypes != df[col].infer_objects():\n",
    "        print(f\"Whilst {col} is stored as {df[col].dtypes}, Pandas is inferring it as df[col].infer_objects\")\n",
    "        inferenceCounter += 1\n",
    "if inferenceCounter == 0:\n",
    "    print(\"\\nPandas has inferred that all columns are the correct data type\")"
   ]
  },
  {
   "cell_type": "code",
   "execution_count": 4,
   "id": "da7d07db",
   "metadata": {},
   "outputs": [
    {
     "data": {
      "text/plain": [
       "array(['carat', 'cut', 'color', 'clarity', 'depth', 'table', 'x', 'y',\n",
       "       'z', 'price'], dtype=object)"
      ]
     },
     "execution_count": 4,
     "metadata": {},
     "output_type": "execute_result"
    }
   ],
   "source": [
    "df.columns.values"
   ]
  },
  {
   "cell_type": "markdown",
   "id": "81abae07",
   "metadata": {},
   "source": [
    "# Response Variable <a id='dResponse'></a>\n",
    "The response or target variable for this dataset is the price that the diamond was sold for."
   ]
  },
  {
   "cell_type": "markdown",
   "id": "fa27861b",
   "metadata": {},
   "source": [
    "# Goals & Objectives <a id='gObjectives'></a>\n",
    "The goal for our data analysis is to find a pattern between physical attributes of the diamond and the resulting price the diamond sold for."
   ]
  },
  {
   "cell_type": "markdown",
   "id": "f4aa2d16",
   "metadata": {},
   "source": [
    "Return to [Table of contents](#contents)"
   ]
  },
  {
   "cell_type": "markdown",
   "id": "599be5d0",
   "metadata": {},
   "source": [
    "## Dataset Variables <a id='dVariables'></a>\n",
    " Explain the variables in your dataset that you will be including in your project in a table format. To be clear, please include only the variables you will use in your project and leave out the ones you will not be using in your project. In your table, you need to have one variable per row with the following 4 columns:\n",
    " \n",
    "    - Name of the variable\n",
    "    - Data type (numeric, binary, nominal categorical, ordinal categorical, date)\n",
    "    - Units (\"Unknown\" or \"NA\" for Not Applicable are acceptable)\n",
    "    - Brief description"
   ]
  },
  {
   "cell_type": "code",
   "execution_count": 12,
   "id": "70c1f740",
   "metadata": {
    "scrolled": false
   },
   "outputs": [
    {
     "data": {
      "text/plain": [
       "carat      float64\n",
       "cut         object\n",
       "color       object\n",
       "clarity     object\n",
       "depth      float64\n",
       "table      float64\n",
       "x          float64\n",
       "y          float64\n",
       "z          float64\n",
       "price        int64\n",
       "dtype: object"
      ]
     },
     "execution_count": 12,
     "metadata": {},
     "output_type": "execute_result"
    }
   ],
   "source": [
    "df.dtypes"
   ]
  },
  {
   "cell_type": "markdown",
   "id": "f2d023bc",
   "metadata": {},
   "source": [
    "As we can see from the data types, cut color and clarity are categorical (ordinal?). The rest are numeric."
   ]
  },
  {
   "cell_type": "markdown",
   "id": "3efc0abf",
   "metadata": {},
   "source": [
    "Return to [Table of contents](#contents)"
   ]
  },
  {
   "cell_type": "markdown",
   "id": "a6104c27",
   "metadata": {},
   "source": [
    "## Response Variable <a id='rVariable'></a>\n",
    "Our response variable will be the `price` of diamonds, which is numeric."
   ]
  },
  {
   "cell_type": "markdown",
   "id": "9bddd447",
   "metadata": {},
   "source": [
    "Return to [Table of contents](#contents)"
   ]
  },
  {
   "cell_type": "markdown",
   "id": "87b377e4",
   "metadata": {},
   "source": [
    "## Goals & Objectives <a id='Objectives'></a>\n",
    "(10 points) for modelling this particular data. "
   ]
  },
  {
   "cell_type": "markdown",
   "id": "7b2b1864",
   "metadata": {},
   "source": [
    "Return to [Table of contents](#contents)"
   ]
  },
  {
   "cell_type": "markdown",
   "id": "faba9422",
   "metadata": {},
   "source": [
    "## Data Cleaning & Preprocessing <a id='Preprocessing'></a>\n",
    "If your dataset is **already clean** and ready for modelling, you will get the full score for this task, our treat! For this section, you will need to add subsections as appropriate for better organisation of your work."
   ]
  },
  {
   "cell_type": "markdown",
   "id": "f8d13603",
   "metadata": {},
   "source": [
    "Return to [Table of contents](#contents)"
   ]
  },
  {
   "cell_type": "markdown",
   "id": "6f577ac2",
   "metadata": {},
   "source": [
    "## Data Exploration & Visualisation <a id='Visualisation'></a>\n",
    "as appropriate with proper explanation: charts, graphs, boxplots, numerical summaries, etc. For this section, you will need to add subsections as appropriate for better organisation. "
   ]
  },
  {
   "cell_type": "markdown",
   "id": "f3359c79",
   "metadata": {},
   "source": [
    "Return to [Table of contents](#contents)"
   ]
  },
  {
   "cell_type": "markdown",
   "id": "4837a375",
   "metadata": {},
   "source": [
    "## Literature Review <a id='Review'></a>\n",
    "(Advanced Submission Mode Only, 15 points) "
   ]
  },
  {
   "cell_type": "markdown",
   "id": "0aea1534",
   "metadata": {},
   "source": [
    "Return to [Table of contents](#contents)"
   ]
  },
  {
   "cell_type": "markdown",
   "id": "cd960dc4",
   "metadata": {},
   "source": [
    "## Summary & Conclusions <a id='Conclusions'></a>\n",
    "of the first phase of your project: a comprehensive summary of Phase 1 and any insights you gained in this phase as they relate to your goals and objectives."
   ]
  },
  {
   "cell_type": "markdown",
   "id": "5c4a3ffe",
   "metadata": {},
   "source": [
    "Return to [Table of contents](#contents)"
   ]
  },
  {
   "cell_type": "markdown",
   "id": "184f1d7b",
   "metadata": {},
   "source": [
    "## References <a id='References'></a>\n",
    "For citing any book, article, paper, website, etc. in your report, you need to use the APA style"
   ]
  },
  {
   "cell_type": "markdown",
   "id": "72117ba9",
   "metadata": {},
   "source": [
    "Return to [Table of contents](#contents)"
   ]
  },
  {
   "cell_type": "markdown",
   "id": "c9afb961",
   "metadata": {},
   "source": [
    "## Comment - Francis\n",
    "I just realised there is a clean dataset provided, would we prefer to use that, or demonstrate us cleaning the data?\n",
    "It would be pretty easy to make sure our data is clean by comparing it to the clean dataset provided."
   ]
  },
  {
   "cell_type": "markdown",
   "id": "7a9af2b6",
   "metadata": {},
   "source": []
  },
  {
   "cell_type": "code",
   "execution_count": null,
   "id": "60a04390",
   "metadata": {},
   "outputs": [],
   "source": []
  }
 ],
 "metadata": {
  "kernelspec": {
   "display_name": "Python 3",
   "language": "python",
   "name": "python3"
  },
  "language_info": {
   "codemirror_mode": {
    "name": "ipython",
    "version": 3
   },
   "file_extension": ".py",
   "mimetype": "text/x-python",
   "name": "python",
   "nbconvert_exporter": "python",
   "pygments_lexer": "ipython3",
   "version": "3.8.8"
  },
  "varInspector": {
   "cols": {
    "lenName": 16,
    "lenType": 16,
    "lenVar": 40
   },
   "kernels_config": {
    "python": {
     "delete_cmd_postfix": "",
     "delete_cmd_prefix": "del ",
     "library": "var_list.py",
     "varRefreshCmd": "print(var_dic_list())"
    },
    "r": {
     "delete_cmd_postfix": ") ",
     "delete_cmd_prefix": "rm(",
     "library": "var_list.r",
     "varRefreshCmd": "cat(var_dic_list()) "
    }
   },
   "types_to_exclude": [
    "module",
    "function",
    "builtin_function_or_method",
    "instance",
    "_Feature"
   ],
   "window_display": false
  }
 },
 "nbformat": 4,
 "nbformat_minor": 5
}
