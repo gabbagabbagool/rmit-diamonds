{
 "cells": [
  {
   "cell_type": "markdown",
   "id": "cf3647b1",
   "metadata": {},
   "source": [
    "# Predicting the price of diamonds - Phase 2"
   ]
  },
  {
   "cell_type": "markdown",
   "id": "de732414",
   "metadata": {},
   "source": [
    "## Table of contents <a id=\"contents\"></a>\n",
    "- [Section 1.0 (Introduction)](#1.0)\n",
    "    - [1.1 (Phase 1 Summary)](#1.1) 5 points\n",
    "    - [1.2 (Report Overview)](#1.2) 5 points\n",
    "    - [1.3 (Overview of Methodology)](#1.3) 5 points\n",
    "- [Section 2.0 (Statistical Modelling)](#2.0) \n",
    "    - [2.1 (Model Overview)](#2.1) 10 points\n",
    "    - [2.2 (Model Fitting)](#2.2) 30 points\n",
    "    - [2.3 (Neural Network Model Fitting & Tuning)](#2.3) 15 points - *Advanced Submission Mode Only*\n",
    "- [Section 3.0 (Critique & Limitations)](#3.0) 10 points\n",
    "- [Section 4.0 (Summary & Conclusions)](#4.0) \n",
    "    - [4.1 (Project Summary)](#4.1) 5 points\n",
    "    - [4.2 (Summary of Findings)](#4.2) 5 points\n",
    "    - [4.3 (Conclusions)](#4.3) 5 points"
   ]
  },
  {
   "cell_type": "markdown",
   "id": "7706446b",
   "metadata": {},
   "source": [
    "# 1.0 Introduction <a id='1.0'></a>"
   ]
  },
  {
   "cell_type": "markdown",
   "id": "80c523cf",
   "metadata": {},
   "source": [
    "## 1.1 Phase 1 Summary <a id='1.1'></a>\n",
    "\n",
    "A brief yet complete and accurate summary of the work conducted for your Phase 1 report and how they relate to your Phase 2 report. "
   ]
  },
  {
   "cell_type": "markdown",
   "id": "53105097",
   "metadata": {},
   "source": [
    "Return to [Table of contents](#contents)\n",
    "___"
   ]
  },
  {
   "cell_type": "markdown",
   "id": "f25c083e",
   "metadata": {},
   "source": [
    "## 1.2 Report Overview <a id='1.2'></a>\n",
    "\n",
    "A complete and accurate overview of the contents of your Phase 2 report. Clarification: A Table of Contents is not a report overview."
   ]
  },
  {
   "cell_type": "markdown",
   "id": "a6bb5a27",
   "metadata": {},
   "source": [
    "Return to [Table of contents](#contents)\n",
    "___"
   ]
  },
  {
   "cell_type": "markdown",
   "id": "e1b75d7d",
   "metadata": {},
   "source": [
    "## 1.3 Overview of Methodology <a id='1.3'></a>\n",
    "\n",
    "A detailed, complete, and accurate overview of your statistical modelling methodology."
   ]
  },
  {
   "cell_type": "markdown",
   "id": "67442a9b",
   "metadata": {},
   "source": [
    "Return to [Table of contents](#contents)\n",
    "___"
   ]
  },
  {
   "cell_type": "markdown",
   "id": "4d949e58",
   "metadata": {},
   "source": [
    "# 2.0 Statistical Modelling <a id='2.0'></a>"
   ]
  },
  {
   "cell_type": "markdown",
   "id": "3b56f90a",
   "metadata": {},
   "source": [
    "## 2.1 Model Overview <a id='2.1'></a>\n",
    "\n",
    "Overview of full model, including the variables and terms you are using in your regression model."
   ]
  },
  {
   "cell_type": "markdown",
   "id": "02e124a2",
   "metadata": {},
   "source": [
    "Return to [Table of contents](#contents)\n",
    "___"
   ]
  },
  {
   "cell_type": "markdown",
   "id": "b5beb182",
   "metadata": {},
   "source": [
    "## 2.2 Model Fitting <a id='2.2'></a>\n",
    "\n",
    "Details of assumptions check, model selection, plots of residuals, and technical analysis of regression results."
   ]
  },
  {
   "cell_type": "markdown",
   "id": "2bb26e3e",
   "metadata": {},
   "source": [
    "Return to [Table of contents](#contents)\n",
    "___"
   ]
  },
  {
   "cell_type": "markdown",
   "id": "7e9805ae",
   "metadata": {},
   "source": [
    "## 2.3 Neural Network Model Fitting & Tuning <a id='2.3'></a>\n",
    "\n",
    "Advanced Submission Mode Only"
   ]
  },
  {
   "cell_type": "markdown",
   "id": "ec49d8f4",
   "metadata": {},
   "source": [
    "NOTE: Here is a link that Vural has provided to assist us https://www.featureranking.com/tutorials/machine-learning-tutorials/sk-part-7-neural-networks-simple-case-study/"
   ]
  },
  {
   "cell_type": "markdown",
   "id": "ff0bab03",
   "metadata": {},
   "source": [
    "Return to [Table of contents](#contents)\n",
    "___"
   ]
  },
  {
   "cell_type": "markdown",
   "id": "55c896a6",
   "metadata": {},
   "source": [
    "# 3.0 Critique & Limitations <a id='3.0'></a>\n",
    "\n",
    "Critique & Limitations of your approach: strengths and weaknesses in detail."
   ]
  },
  {
   "cell_type": "markdown",
   "id": "0420b6bb",
   "metadata": {},
   "source": [
    "Return to [Table of contents](#contents)\n",
    "___"
   ]
  },
  {
   "cell_type": "markdown",
   "id": "a1c7544b",
   "metadata": {},
   "source": [
    "# 4.0 Summary & Conclusions <a id='4.0'></a>"
   ]
  },
  {
   "cell_type": "markdown",
   "id": "e223fa64",
   "metadata": {},
   "source": [
    "## 4.1 Project Summary <a id='4.1'></a>\n",
    "\n",
    "A comprehensive summary of your entire project (both Phase 1 and Phase 2). That is, what exactly did you do in your project? (Example: I first cleaned the data in such and such ways. And then I applied multiple linear regression techniques in such and such ways. etc)."
   ]
  },
  {
   "cell_type": "markdown",
   "id": "f1b61c08",
   "metadata": {},
   "source": [
    "Return to [Table of contents](#contents)\n",
    "___"
   ]
  },
  {
   "cell_type": "markdown",
   "id": "29d72dd6",
   "metadata": {},
   "source": [
    "## 4.2 Summary of Finding <a id='4.2'></a>\n",
    "\n",
    "A comprehensive summary of your findings. That is, what exactly did you find about your particular problem?"
   ]
  },
  {
   "cell_type": "markdown",
   "id": "3439871a",
   "metadata": {},
   "source": [
    "Return to [Table of contents](#contents)\n",
    "___"
   ]
  },
  {
   "cell_type": "markdown",
   "id": "ced576b3",
   "metadata": {},
   "source": [
    "## 4.3 Conclusions <a id='4.3'></a>\n",
    "\n",
    "Your detailed conclusions as they relate to your goals and objectives."
   ]
  },
  {
   "cell_type": "markdown",
   "id": "b1ea24d5",
   "metadata": {},
   "source": [
    "Return to [Table of contents](#contents)\n",
    "___"
   ]
  }
 ],
 "metadata": {
  "interpreter": {
   "hash": "ad3de317fe6d8102deb7cd4fc9bd69610df59e114c2865f309bee4c1c5063cf4"
  },
  "kernelspec": {
   "display_name": "Python 3",
   "language": "python",
   "name": "python3"
  },
  "language_info": {
   "codemirror_mode": {
    "name": "ipython",
    "version": 3
   },
   "file_extension": ".py",
   "mimetype": "text/x-python",
   "name": "python",
   "nbconvert_exporter": "python",
   "pygments_lexer": "ipython3",
   "version": "3.8.8"
  },
  "varInspector": {
   "cols": {
    "lenName": 16,
    "lenType": 16,
    "lenVar": 40
   },
   "kernels_config": {
    "python": {
     "delete_cmd_postfix": "",
     "delete_cmd_prefix": "del ",
     "library": "var_list.py",
     "varRefreshCmd": "print(var_dic_list())"
    },
    "r": {
     "delete_cmd_postfix": ") ",
     "delete_cmd_prefix": "rm(",
     "library": "var_list.r",
     "varRefreshCmd": "cat(var_dic_list()) "
    }
   },
   "types_to_exclude": [
    "module",
    "function",
    "builtin_function_or_method",
    "instance",
    "_Feature"
   ],
   "window_display": false
  }
 },
 "nbformat": 4,
 "nbformat_minor": 5
}
