{
 "cells": [
  {
   "cell_type": "markdown",
   "id": "01c76589",
   "metadata": {},
   "source": [
    "Phase 1 Summary:\n",
    "\n",
    "In phase 1 we introduced our dataset 'Diamonds' and our intention for using this dataset to predict the price of diamonds based on their physical attributes. \n",
    "\n",
    "To achieve an accurate model for predicting a diamond's price, our initial task included cleaning & preprocessing the data. This involved checking for incorrect & missing values, looking at the amount of unique values, and checking the datatypes of each variable. We found records which included extreme values for the variables y and z, as well as records which included a measure of 0 for x, y and z. We removed these values as the likelihood they were meaniningful values was very low. \n",
    "\n",
    "We then began investigating the distribution of certain variables, plotting their value distribution, and their values against price.\n",
    "\n",
    "We observed that the carat variable was multimodal, with large groupings around multiples of 1 and then observable peaks again at multiples of .1. In our literature review we explored an idea of 'magic numbers' which might explain this, the theory is that jewellers would be aiming for round numbers when working with diamonds.\n",
    "\n",
    "We discovered in exploring the variable table, that it seemingly had little to no influence on price, as for almost any record of table, you could find many records outside of the upper and lower quartiles. When investigating depth we found a similar graph when plotted against price.\n",
    "\n",
    "One of the most helpful graphs for us was a scatterplot of carat against price, where each record is colored by clarity. This helped to indicate that carat had a much larger effect on price than clarity. \n",
    "\n",
    "In our literature review, we discussed the conditions of the market that influence the price of the diamonds. In particular we discussed the way in which e-commerce has the effect of changing the demand of diamonds into that of a commodity, rather than their current luxury item status. Another discussion involved the 'magic numbers' discussed earlier.\n",
    "\n",
    "The conclusion of our phase 1 report included reasonings that drive our interest in predicting diamond prices, a summary of our data processing & cleaning, as well as our findings from variable exploration.  "
   ]
  },
  {
   "cell_type": "markdown",
   "id": "29144be8",
   "metadata": {},
   "source": [
    "Critique and limitations:\n",
    "\n",
    "In our full model the condition number given to us by the statsmodels Ordinary Least Squares fit summary is large, at 13,400. This could be as all our data are to the right of price = 0, causing a high sensitivity around the y intercept. We can observe strange modelling in this area where the model suggests negative prices for diamonds with certain physical attributes, however a negative price is not possible for this object. Seeing as we are not interested in our model giving an accurate y intercept, as a price of zero is not possible, this is not of great concern.\n",
    "\n",
    "When plotting actual price against predicted price with the full model and full dataset we see a slight bend. This led us to investigate whether linear regression was appropriate, or fails to accurately describe the data. Whilst the curve is visible, the intense density of records near the models prediction gives us an adjusted $R^{2}$ of .922 which indicates that any change in our models predictor variables will explain 92.2% of the change in our target variable.\n",
    "\n",
    "Another concern of ours was the accuracy of our prediction as the price increases. When plotting actual price against predicted price we see variability increasing as the price exceeds \\\\$7000, we have created a model, using a dataset with only those records under \\\\$7000 and above \\\\$xxx TODO. In this range our model's residuals are far more linear, with a more consistent variability. We must consider which model provides more use to us, the original will provide a less accurate model for diamonds of any price, whereas the latter model is only intended for diamonds within a certain price range. Diamonds have a large variability in price in the real world, with prices reaching millions of dollars, however at this upper bound there are many influences on the price which may not be explained by physical characteristics, or at least, not in a linear fashion. The model with a limited bound of price would provide incredible accuracy at (TODO INSERT R^2 VALUE OF LIMITED MODEL HERE) for diamonds of a price from (TODO LOWER BOUND) - \\\\$7000. This accuracy and a range of several thousands of dollar"
   ]
  }
 ],
 "metadata": {
  "kernelspec": {
   "display_name": "Python 3",
   "language": "python",
   "name": "python3"
  },
  "language_info": {
   "codemirror_mode": {
    "name": "ipython",
    "version": 3
   },
   "file_extension": ".py",
   "mimetype": "text/x-python",
   "name": "python",
   "nbconvert_exporter": "python",
   "pygments_lexer": "ipython3",
   "version": "3.8.8"
  }
 },
 "nbformat": 4,
 "nbformat_minor": 5
}
